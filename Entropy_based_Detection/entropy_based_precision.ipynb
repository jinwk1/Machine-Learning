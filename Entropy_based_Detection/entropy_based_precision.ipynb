{
 "cells": [
  {
   "cell_type": "code",
   "execution_count": 9,
   "id": "0ac13e6e-9b28-4f1a-94d9-7763fecfc9b8",
   "metadata": {
    "scrolled": true
   },
   "outputs": [
    {
     "name": "stdout",
     "output_type": "stream",
     "text": [
      "4.43358691749625\n",
      "4.184898800085\n",
      "5.980473463462499\n",
      "6.642391810444444\n",
      "4.471503736088889\n",
      "7.535302712613333\n",
      "7.562553266164444\n",
      "6.740163527213333\n",
      "3.8947089332976996\n",
      "7.361459509933334\n",
      "5.130847546602499\n",
      "5.318923267820001\n",
      "4.949707609313333\n",
      "7.831106925893334\n",
      "7.986776945166667\n",
      "7.859633127439999\n",
      "     filetype  threshold  precision   TP   FN   FP   TN\n",
      "0     01. CSV        0.0      50.00  800    0  800    0\n",
      "1     01. CSV        0.1      52.29  800    0  730   70\n",
      "2     01. CSV        0.2      54.26  790   10  666  134\n",
      "3     01. CSV        0.3       0.00    0  800  551  249\n",
      "4     01. CSV        0.4       0.00    0  800  448  352\n",
      "..        ...        ...        ...  ...  ...  ...  ...\n",
      "171  17. PPTX        0.6       0.00    0  150    4  146\n",
      "172  17. PPTX        0.7       0.00    0  150    3  147\n",
      "173  17. PPTX        0.8       0.00    0  150    3  147\n",
      "174  17. PPTX        0.9       0.00    0  150    2  148\n",
      "175  17. PPTX        1.0       0.00    0  150    1  149\n",
      "\n",
      "[176 rows x 7 columns]\n",
      "임계값별 Accuracy 계산 완료!\n"
     ]
    }
   ],
   "source": [
    "import pandas as pd\n",
    "import numpy as np\n",
    "import os\n",
    "\n",
    "START = 0.0\n",
    "STOP = 1.0\n",
    "STEP = 0.1\n",
    "\n",
    "df_result = pd.DataFrame(columns=['filetype', 'threshold', 'precision', 'TP', 'FN', 'FP', 'TN'])\n",
    "\n",
    "in_data_dir = 'entropy_data/'\n",
    "out_data_dir = 'Results/'\n",
    "\n",
    "in_files = [f for f in os.listdir(in_data_dir) if os.path.isfile(os.path.join(in_data_dir, f))]\n",
    "#print(in_files)\n",
    "\n",
    "for in_file in in_files:\n",
    "    df = pd.read_csv(in_data_dir + in_file)\n",
    "    \n",
    "    # 평문 파일들의 엔트로피 평균 값 계산\n",
    "    plain_avg = df[df['class'] == 0]['entropy'].mean()\n",
    "    print(plain_avg)\n",
    "    \n",
    "    thresholds = np.arange(START, STOP + STEP, STEP) \n",
    "    \n",
    "    for threshold in thresholds:\n",
    "        TP = TN = FP = FN = 0  # Confusion 행렬 초기화\n",
    "        # TP = (df[df['class'] == 1]['entropy'] > (plain_avg + threshold)).sum()\n",
    "        # FN = (df[df['class'] == 1]['entropy'] <= (plain_avg + threshold)).sum()\n",
    "        # FP = (df[df['class'] == 0]['entropy'] > (plain_avg + threshold)).sum()\n",
    "        # TN = (df[df['class'] == 0]['entropy'] <= (plain_avg + threshold)).sum()\n",
    "\n",
    "        TP = (np.abs(df[df['class'] == 1]['entropy'] - plain_avg) > threshold).sum()\n",
    "        FN = (np.abs(df[df['class'] == 1]['entropy'] - plain_avg) <= threshold).sum()\n",
    "        FP = (np.abs(df[df['class'] == 0]['entropy'] - plain_avg) > threshold).sum()\n",
    "        TN = (np.abs(df[df['class'] == 0]['entropy'] - plain_avg) <= threshold).sum()\n",
    "        \n",
    "        precision = (TP / (TP + FP)) * 100 if (TP + FP) > 0 else 0\n",
    "        \n",
    "        #print(accuracy, TP, FN, FP, TN)\n",
    "        df_result.loc[len(df_result)] = [os.path.splitext(in_file)[0], threshold, \n",
    "                                         round(precision,2), TP, FN, FP, TN]\n",
    "    \n",
    "print(df_result)\n",
    "df_result.to_csv(out_data_dir + 'result_ABS.csv', index=False)\n",
    "print(f'임계값별 Accuracy 계산 완료!')"
   ]
  }
 ],
 "metadata": {
  "kernelspec": {
   "display_name": "Python 3 (ipykernel)",
   "language": "python",
   "name": "python3"
  },
  "language_info": {
   "codemirror_mode": {
    "name": "ipython",
    "version": 3
   },
   "file_extension": ".py",
   "mimetype": "text/x-python",
   "name": "python",
   "nbconvert_exporter": "python",
   "pygments_lexer": "ipython3",
   "version": "3.9.19"
  }
 },
 "nbformat": 4,
 "nbformat_minor": 5
}
