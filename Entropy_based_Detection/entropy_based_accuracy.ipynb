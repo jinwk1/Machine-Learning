{
 "cells": [
  {
   "cell_type": "code",
   "execution_count": 27,
   "id": "0ac13e6e-9b28-4f1a-94d9-7763fecfc9b8",
   "metadata": {
    "scrolled": true
   },
   "outputs": [
    {
     "ename": "FileNotFoundError",
     "evalue": "[WinError 3] 지정된 경로를 찾을 수 없습니다: 'Data/'",
     "output_type": "error",
     "traceback": [
      "\u001b[1;31m---------------------------------------------------------------------------\u001b[0m",
      "\u001b[1;31mFileNotFoundError\u001b[0m                         Traceback (most recent call last)",
      "Cell \u001b[1;32mIn[27], line 14\u001b[0m\n\u001b[0;32m     11\u001b[0m in_data_dir \u001b[38;5;241m=\u001b[39m \u001b[38;5;124m'\u001b[39m\u001b[38;5;124mData/\u001b[39m\u001b[38;5;124m'\u001b[39m\n\u001b[0;32m     12\u001b[0m out_data_dir \u001b[38;5;241m=\u001b[39m \u001b[38;5;124m'\u001b[39m\u001b[38;5;124mResults/\u001b[39m\u001b[38;5;124m'\u001b[39m\n\u001b[1;32m---> 14\u001b[0m in_files \u001b[38;5;241m=\u001b[39m [f \u001b[38;5;28;01mfor\u001b[39;00m f \u001b[38;5;129;01min\u001b[39;00m \u001b[43mos\u001b[49m\u001b[38;5;241;43m.\u001b[39;49m\u001b[43mlistdir\u001b[49m\u001b[43m(\u001b[49m\u001b[43min_data_dir\u001b[49m\u001b[43m)\u001b[49m \u001b[38;5;28;01mif\u001b[39;00m os\u001b[38;5;241m.\u001b[39mpath\u001b[38;5;241m.\u001b[39misfile(os\u001b[38;5;241m.\u001b[39mpath\u001b[38;5;241m.\u001b[39mjoin(in_data_dir, f))]\n\u001b[0;32m     15\u001b[0m \u001b[38;5;66;03m#print(in_files)\u001b[39;00m\n\u001b[0;32m     17\u001b[0m \u001b[38;5;28;01mfor\u001b[39;00m in_file \u001b[38;5;129;01min\u001b[39;00m in_files:\n",
      "\u001b[1;31mFileNotFoundError\u001b[0m: [WinError 3] 지정된 경로를 찾을 수 없습니다: 'Data/'"
     ]
    }
   ],
   "source": [
    "import pandas as pd\n",
    "import numpy as np\n",
    "import os\n",
    "\n",
    "START = 0.0\n",
    "STOP = 2.0\n",
    "STEP = 0.1\n",
    "\n",
    "df_result = pd.DataFrame(columns=['filetype', 'threshold', 'accuracy', 'TP', 'FN', 'FP', 'TN'])\n",
    "\n",
    "in_data_dir = 'entropy/'\n",
    "out_data_dir = 'Results/'\n",
    "\n",
    "in_files = [f for f in os.listdir(in_data_dir) if os.path.isfile(os.path.join(in_data_dir, f))]\n",
    "#print(in_files)\n",
    "\n",
    "for in_file in in_files:\n",
    "    df = pd.read_csv(in_data_dir + in_file)\n",
    "    \n",
    "    # 평문 파일들의 엔트로피 평균 값 계산\n",
    "    plain_avg = df[df['class'] == 0]['entropy'].mean()\n",
    "    print(plain_avg)\n",
    "    \n",
    "    thresholds = np.arange(START, STOP + STEP, STEP) \n",
    "    \n",
    "    for threshold in thresholds:\n",
    "        TP = TN = FP = FN = 0  # Confusion 행렬 초기화\n",
    "        TP = (df[df['class'] == 1]['entropy'] > (plain_avg + threshold)).sum()\n",
    "        FN = (df[df['class'] == 1]['entropy'] <= (plain_avg + threshold)).sum()\n",
    "        FP = (df[df['class'] == 0]['entropy'] > (plain_avg + threshold)).sum()\n",
    "        TN = (df[df['class'] == 0]['entropy'] <= (plain_avg + threshold)).sum()\n",
    "        \n",
    "        total = TP + TN + FP + FN\n",
    "        accuracy = ((TP + TN) / total) * 100 if total > 0 else 0\n",
    "        \n",
    "        #print(accuracy, TP, FN, FP, TN)\n",
    "        df_result.loc[len(df_result)] = [os.path.splitext(in_file)[0], threshold, round(accuracy,2),\n",
    "                                        TP, FN, FP, TN]\n",
    "    \n",
    "print(df_result)\n",
    "df_result.to_csv(out_data_dir + 'accuracy.csv', index=False)\n",
    "print(f'임계값별 Accuracy 계산 완료!')"
   ]
  }
 ],
 "metadata": {
  "kernelspec": {
   "display_name": "Python 3 (ipykernel)",
   "language": "python",
   "name": "python3"
  },
  "language_info": {
   "codemirror_mode": {
    "name": "ipython",
    "version": 3
   },
   "file_extension": ".py",
   "mimetype": "text/x-python",
   "name": "python",
   "nbconvert_exporter": "python",
   "pygments_lexer": "ipython3",
   "version": "3.9.19"
  }
 },
 "nbformat": 4,
 "nbformat_minor": 5
}
