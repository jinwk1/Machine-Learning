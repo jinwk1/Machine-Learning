{
 "cells": [
  {
   "cell_type": "code",
   "execution_count": 7,
   "id": "2d9283fd-7587-452c-b44a-b66d9f77cb46",
   "metadata": {},
   "outputs": [
    {
     "name": "stdout",
     "output_type": "stream",
     "text": [
      "entropy_data/01. CSV.csv 완료!\n",
      "entropy_data/02. TXT.csv 완료!\n",
      "entropy_data/03. DLL.csv 완료!\n",
      "entropy_data/04. SYS.csv 완료!\n",
      "entropy_data/05. DOC.csv 완료!\n",
      "entropy_data/06. DOCX.csv 완료!\n",
      "entropy_data/07. PDF.csv 완료!\n",
      "entropy_data/08. PPT.csv 완료!\n",
      "entropy_data/10. XLS.csv 완료!\n",
      "entropy_data/11. XLSX.csv 완료!\n",
      "entropy_data/12. HTML.csv 완료!\n",
      "entropy_data/13. C.csv 완료!\n",
      "entropy_data/14. CPP.csv 완료!\n",
      "entropy_data/15. JPG.csv 완료!\n",
      "entropy_data/16. ZIP.csv 완료!\n",
      "entropy_data/17. PPTX.csv 완료!\n"
     ]
    }
   ],
   "source": [
    "import numpy as np\n",
    "import pandas as pd\n",
    "import os\n",
    "\n",
    "in_data_dir = 'Excel_Data/'\n",
    "out_data_dir = 'entropy_data/'\n",
    "\n",
    "in_files = [f for f in os.listdir(in_data_dir) if os.path.isfile(os.path.join(in_data_dir, f))]\n",
    "#print(in_files)\n",
    "\n",
    "for in_file in in_files:\n",
    "    df = pd.read_excel(in_data_dir + in_file, header=None) \n",
    "    \n",
    "    # 평문 파일 (엔트로피, 클래스) 데이터 프레임 생성\n",
    "    df_plain = pd.DataFrame({\n",
    "        'entropy': df[0],\n",
    "        'class': 0\n",
    "    })\n",
    "    \n",
    "    # 감염 파일 (엔트로피, 클래스) 데이터 프레임 생성\n",
    "    df_infected = pd.DataFrame({\n",
    "        'entropy': df[2],\n",
    "        'class': 1\n",
    "    })\n",
    "    \n",
    "    # 평문 파일 + 감염 파일\n",
    "    df_combined = pd.concat([df_plain, df_infected], ignore_index=True)\n",
    "    \n",
    "    out_file = os.path.splitext(in_file)[0] + '.csv'\n",
    "    df_combined.to_csv(out_data_dir + out_file, index=False)\n",
    "    print(f'{out_data_dir + out_file} 완료!')"
   ]
  }
 ],
 "metadata": {
  "kernelspec": {
   "display_name": "Python 3 (ipykernel)",
   "language": "python",
   "name": "python3"
  },
  "language_info": {
   "codemirror_mode": {
    "name": "ipython",
    "version": 3
   },
   "file_extension": ".py",
   "mimetype": "text/x-python",
   "name": "python",
   "nbconvert_exporter": "python",
   "pygments_lexer": "ipython3",
   "version": "3.9.19"
  }
 },
 "nbformat": 4,
 "nbformat_minor": 5
}
