{
 "cells": [
  {
   "cell_type": "code",
   "execution_count": 8,
   "id": "6154f4e1-456c-4243-9722-d2de6289d873",
   "metadata": {},
   "outputs": [
    {
     "name": "stdout",
     "output_type": "stream",
     "text": [
      "average(max_precision): 60.85312499999999\n",
      "\n",
      "    filetype  threshold  max_precision\n",
      "0    01. CSV        0.2          54.26\n",
      "1    02. TXT        0.1          50.89\n",
      "2    03. DLL        0.0          50.00\n",
      "3    04. SYS        0.0          50.00\n",
      "4    05. DOC        0.1          51.84\n",
      "5   06. DOCX        0.4          85.23\n",
      "6    07. PDF        0.4          80.58\n",
      "7    08. PPT        0.0          50.00\n",
      "8    10. XLS        0.0          50.00\n",
      "9   11. XLSX        0.6          90.91\n",
      "10  12. HTML        0.0          50.00\n",
      "11     13. C        0.1          60.98\n",
      "12   14. CPP        0.3          74.63\n",
      "13   15. JPG        0.1          59.95\n",
      "14   16. ZIP        0.0          50.00\n",
      "15  17. PPTX        0.1          64.38\n"
     ]
    }
   ],
   "source": [
    "import pandas as pd\n",
    "import numpy as np\n",
    "\n",
    "df = pd.read_csv('Results/result_ABS.csv')\n",
    "unique_filetypes = df['filetype'].unique()\n",
    "\n",
    "df_result = pd.DataFrame(columns=['filetype', 'threshold', 'max_precision'])\n",
    "\n",
    "for filetype in unique_filetypes:\n",
    "    max_precision = df[df['filetype'] == filetype]['precision'].max()\n",
    "    max_threshold = df.loc[df[df['filetype'] == filetype]['precision'].idxmax(), 'threshold']\n",
    "    df_result.loc[len(df_result)] = [filetype, max_threshold, round(max_precision,2)]\n",
    "\n",
    "print(f\"average(max_precision): {df_result['max_precision'].mean()}\\n\")\n",
    "print(df_result)"
   ]
  }
 ],
 "metadata": {
  "kernelspec": {
   "display_name": "Python 3 (ipykernel)",
   "language": "python",
   "name": "python3"
  },
  "language_info": {
   "codemirror_mode": {
    "name": "ipython",
    "version": 3
   },
   "file_extension": ".py",
   "mimetype": "text/x-python",
   "name": "python",
   "nbconvert_exporter": "python",
   "pygments_lexer": "ipython3",
   "version": "3.9.19"
  }
 },
 "nbformat": 4,
 "nbformat_minor": 5
}
